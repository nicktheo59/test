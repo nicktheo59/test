{
 "cells": [
  {
   "cell_type": "code",
   "execution_count": 1,
   "id": "6ea6c7bc-cd49-4eea-9d78-422cf8db0983",
   "metadata": {},
   "outputs": [
    {
     "data": {
      "application/vnd.jupyter.widget-view+json": {
       "model_id": "e2b9b8743d9f4df7a715d205fa09c8e2",
       "version_major": 2,
       "version_minor": 0
      },
      "text/plain": [
       "IntSlider(value=10, description='Test Slider:')"
      ]
     },
     "metadata": {},
     "output_type": "display_data"
    }
   ],
   "source": [
    "import ipywidgets as widgets\n",
    "from IPython.display import display\n",
    "\n",
    "# Create a simple slider widget\n",
    "slider = widgets.IntSlider(value=10, min=0, max=100, step=1, description='Test Slider:')\n",
    "display(slider)\n"
   ]
  },
  {
   "cell_type": "code",
   "execution_count": null,
   "id": "f310686c-ac41-4d33-8edd-7c9ee2a5edaa",
   "metadata": {},
   "outputs": [],
   "source": [
    "from PIL import Image, ImageDraw\n",
    "import math\n",
    "import ipywidgets as widgets\n",
    "from IPython.display import display, clear_output\n",
    "def generate_line_pattern(line_width_um=10, spacing_um=10, length_mm=24, span_mm=72, resolution=14):\n",
    "    \"\"\"\n",
    "    Generates a PNG image with horizontal lines based on the specified parameters.\n",
    "\n",
    "    Parameters:\n",
    "    - line_width_um: Width of each line in micrometers.\n",
    "    - spacing_um: Spacing between lines in micrometers.\n",
    "    - length_mm: Length of each line in millimeters.\n",
    "    - span_mm: Total span of the image in millimeters.\n",
    "    - resolution: Pixels per 10 micrometers.\n",
    "\n",
    "    Returns:\n",
    "    - PIL Image object.\n",
    "    \"\"\"\n",
    "    try:\n",
    "        # Convert measurements to pixels\n",
    "        line_width_px = max(1, int((line_width_um / 10) * resolution))\n",
    "        spacing_px = max(1, int((spacing_um / 10) * resolution))\n",
    "        length_px = int((length_mm * 1000 / 10) * resolution)  # 1 mm = 1000 µm\n",
    "        span_px = int((span_mm * 1000 / 10) * resolution)\n",
    "\n",
    "        # Calculate number of lines\n",
    "        lines = span_px // (line_width_px + spacing_px)\n",
    "\n",
    "        # Calculate image size\n",
    "        img_width = length_px\n",
    "        img_height = lines * (line_width_px + spacing_px)\n",
    "        img_height = min(img_height, span_px)  # Ensure it doesn't exceed span_px\n",
    "\n",
    "        # Safety check for image size\n",
    "        max_pixels = 10000 * 10000  # Example limit: 100 million pixels\n",
    "        if img_width * img_height > max_pixels:\n",
    "            raise ValueError(f\"Image size {img_width}x{img_height} px is too large. Reduce parameters or resolution.\")\n",
    "\n",
    "        # Create image\n",
    "        image = Image.new('RGB', (img_width, img_height), 'white')\n",
    "        draw = ImageDraw.Draw(image)\n",
    "\n",
    "        for i in range(lines):\n",
    "            y_start = i * (line_width_px + spacing_px)\n",
    "            y_end = y_start + line_width_px\n",
    "            if y_start >= img_height:\n",
    "                break\n",
    "            y_end = min(y_end, img_height)\n",
    "            draw.rectangle([0, y_start, img_width, y_end], fill='black')\n",
    "\n",
    "        return image\n",
    "\n",
    "    except Exception as e:\n",
    "        print(f\"Error: {e}\")\n",
    "        return None\n",
    "# Define widgets\n",
    "line_width_slider = widgets.IntSlider(value=10, min=1, max=100, step=1, description='Line Width (µm):')\n",
    "spacing_slider = widgets.IntSlider(value=10, min=1, max=100, step=1, description='Spacing (µm):')\n",
    "length_input = widgets.FloatText(value=24.0, description='Length (mm):')\n",
    "span_input = widgets.FloatText(value=72.0, description='Span (mm):')\n",
    "resolution_slider = widgets.IntSlider(value=14, min=1, max=100, step=1, description='Resolution (px per 10µm):')\n",
    "\n",
    "generate_button = widgets.Button(description=\"Generate PNG\", button_style='success')\n",
    "\n",
    "output = widgets.Output()\n",
    "\n",
    "# Display widgets\n",
    "display(line_width_slider, spacing_slider, length_input, span_input, resolution_slider, generate_button, output)\n",
    "def on_generate_clicked(b):\n",
    "    with output:\n",
    "        clear_output()\n",
    "        # Retrieve values from widgets\n",
    "        line_width_um = line_width_slider.value\n",
    "        spacing_um = spacing_slider.value\n",
    "        length_mm = length_input.value\n",
    "        span_mm = span_input.value\n",
    "        resolution = resolution_slider.value\n",
    "\n",
    "        # Generate image\n",
    "        image = generate_line_pattern(line_width_um, spacing_um, length_mm, span_mm, resolution)\n",
    "\n",
    "        if image:\n",
    "            # Display image\n",
    "            display(image)\n",
    "\n",
    "            # Provide download link\n",
    "            from IPython.display import FileLink\n",
    "            image.save(\"line_pattern.png\")\n",
    "            display(FileLink(\"10_line_pattern.png\"))\n",
    "\n",
    "# Link the button to the callback\n",
    "generate_button.on_click(on_generate_clicked)\n"
   ]
  },
  {
   "cell_type": "code",
   "execution_count": null,
   "id": "0a1f1950-2e25-4897-8b55-b92e78186f65",
   "metadata": {},
   "outputs": [],
   "source": []
  }
 ],
 "metadata": {
  "kernelspec": {
   "display_name": "Python 3 (ipykernel)",
   "language": "python",
   "name": "python3"
  },
  "language_info": {
   "codemirror_mode": {
    "name": "ipython",
    "version": 3
   },
   "file_extension": ".py",
   "mimetype": "text/x-python",
   "name": "python",
   "nbconvert_exporter": "python",
   "pygments_lexer": "ipython3",
   "version": "3.10.15"
  }
 },
 "nbformat": 4,
 "nbformat_minor": 5
}
